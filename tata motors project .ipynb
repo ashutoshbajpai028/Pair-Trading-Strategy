{
 "cells": [
  {
   "cell_type": "code",
   "execution_count": 1,
   "id": "92b69f3b",
   "metadata": {},
   "outputs": [
    {
     "name": "stdout",
     "output_type": "stream",
     "text": [
      "Requirement already satisfied: yfinance in ./anaconda3/lib/python3.11/site-packages (0.2.40)\n",
      "Requirement already satisfied: pandas>=1.3.0 in ./anaconda3/lib/python3.11/site-packages (from yfinance) (2.0.3)\n",
      "Requirement already satisfied: numpy>=1.16.5 in ./anaconda3/lib/python3.11/site-packages (from yfinance) (1.24.3)\n",
      "Requirement already satisfied: requests>=2.31 in ./anaconda3/lib/python3.11/site-packages (from yfinance) (2.31.0)\n",
      "Requirement already satisfied: multitasking>=0.0.7 in ./anaconda3/lib/python3.11/site-packages (from yfinance) (0.0.11)\n",
      "Requirement already satisfied: lxml>=4.9.1 in ./anaconda3/lib/python3.11/site-packages (from yfinance) (4.9.3)\n",
      "Requirement already satisfied: platformdirs>=2.0.0 in ./anaconda3/lib/python3.11/site-packages (from yfinance) (3.10.0)\n",
      "Requirement already satisfied: pytz>=2022.5 in ./anaconda3/lib/python3.11/site-packages (from yfinance) (2023.3.post1)\n",
      "Requirement already satisfied: frozendict>=2.3.4 in ./anaconda3/lib/python3.11/site-packages (from yfinance) (2.4.4)\n",
      "Requirement already satisfied: peewee>=3.16.2 in ./anaconda3/lib/python3.11/site-packages (from yfinance) (3.17.6)\n",
      "Requirement already satisfied: beautifulsoup4>=4.11.1 in ./anaconda3/lib/python3.11/site-packages (from yfinance) (4.12.3)\n",
      "Requirement already satisfied: html5lib>=1.1 in ./anaconda3/lib/python3.11/site-packages (from yfinance) (1.1)\n",
      "Requirement already satisfied: soupsieve>1.2 in ./anaconda3/lib/python3.11/site-packages (from beautifulsoup4>=4.11.1->yfinance) (2.4)\n",
      "Requirement already satisfied: six>=1.9 in ./anaconda3/lib/python3.11/site-packages (from html5lib>=1.1->yfinance) (1.16.0)\n",
      "Requirement already satisfied: webencodings in ./anaconda3/lib/python3.11/site-packages (from html5lib>=1.1->yfinance) (0.5.1)\n",
      "Requirement already satisfied: python-dateutil>=2.8.2 in ./anaconda3/lib/python3.11/site-packages (from pandas>=1.3.0->yfinance) (2.8.2)\n",
      "Requirement already satisfied: tzdata>=2022.1 in ./anaconda3/lib/python3.11/site-packages (from pandas>=1.3.0->yfinance) (2023.3)\n",
      "Requirement already satisfied: charset-normalizer<4,>=2 in ./anaconda3/lib/python3.11/site-packages (from requests>=2.31->yfinance) (2.0.4)\n",
      "Requirement already satisfied: idna<4,>=2.5 in ./anaconda3/lib/python3.11/site-packages (from requests>=2.31->yfinance) (3.4)\n",
      "Requirement already satisfied: urllib3<3,>=1.21.1 in ./anaconda3/lib/python3.11/site-packages (from requests>=2.31->yfinance) (1.26.16)\n",
      "Requirement already satisfied: certifi>=2017.4.17 in ./anaconda3/lib/python3.11/site-packages (from requests>=2.31->yfinance) (2024.2.2)\n",
      "Note: you may need to restart the kernel to use updated packages.\n"
     ]
    }
   ],
   "source": [
    "pip install yfinance --upgrade --no-cache-dir\n"
   ]
  },
  {
   "cell_type": "code",
   "execution_count": 6,
   "id": "2568c3a5",
   "metadata": {},
   "outputs": [
    {
     "name": "stderr",
     "output_type": "stream",
     "text": [
      "[*********************100%%**********************]  1 of 1 completed\n",
      "[*********************100%%**********************]  1 of 1 completed"
     ]
    },
    {
     "name": "stdout",
     "output_type": "stream",
     "text": [
      "[{'Type': 'Buy', 'Stock': 'TATAMOTORS.NS', 'Forex': 'EURUSD=X', 'Date': Timestamp('2024-02-05 00:00:00')}, {'Type': 'Sell', 'Stock': 'TATAMOTORS.NS', 'Forex': 'EURUSD=X', 'Date': Timestamp('2024-03-13 00:00:00')}, {'Type': 'Sell', 'Stock': 'TATAMOTORS.NS', 'Forex': 'EURUSD=X', 'Date': Timestamp('2024-05-13 00:00:00')}, {'Type': 'Sell', 'Stock': 'TATAMOTORS.NS', 'Forex': 'EURUSD=X', 'Date': Timestamp('2024-06-04 00:00:00')}]\n"
     ]
    },
    {
     "name": "stderr",
     "output_type": "stream",
     "text": [
      "\n"
     ]
    }
   ],
   "source": [
    "import pandas as pd\n",
    "import yfinance as yf\n",
    "import numpy as np\n",
    "\n",
    "# Define the Forex and Indian market stocks to pair trade\n",
    "forex_pair = 'EURUSD=X'  # Replace with your desired Forex pair\n",
    "indian_stock = 'TATAMOTORS.NS'  # Replace with your desired Indian stock\n",
    "\n",
    "# Download historical data for the Forex pair and Indian stock\n",
    "forex_data = yf.download(forex_pair, start='2024-01-01', end='2024-07-18')\n",
    "indian_data = yf.download(indian_stock, start='2024-01-01', end='2024-07-18')\n",
    "\n",
    "# Calculate the daily returns for both the Forex pair and Indian stock\n",
    "forex_returns = forex_data['Close'].pct_change()\n",
    "indian_returns = indian_data['Close'].pct_change()\n",
    "\n",
    "# Calculate the spread between the Forex pair and Indian stock returns\n",
    "spread = forex_returns - indian_returns\n",
    "\n",
    "# Define the trading strategy parameters\n",
    "mean_spread = spread.mean()\n",
    "std_spread = spread.std()\n",
    "z_score_threshold = 2  # Replace with your desired z-score threshold\n",
    "\n",
    "# Create a function to generate buy and sell signals\n",
    "def generate_signals(spread, mean_spread, std_spread, z_score_threshold):\n",
    "    signals = []\n",
    "    for i in range(len(spread)):\n",
    "        z_score = (spread[i] - mean_spread) / std_spread\n",
    "        if z_score > z_score_threshold:\n",
    "            signals.append(-1)  # Sell signal\n",
    "        elif z_score < -z_score_threshold:\n",
    "            signals.append(1)  # Buy signal\n",
    "        else:\n",
    "            signals.append(0)  # No signal\n",
    "    return signals\n",
    "\n",
    "# Generate buy and sell signals\n",
    "signals = generate_signals(spread, mean_spread, std_spread, z_score_threshold)\n",
    "\n",
    "# Create a function to execute trades\n",
    "def execute_trades(signals, forex_data, indian_data):\n",
    "    trades = []\n",
    "    for i in range(len(signals)):\n",
    "        if signals[i] == 1:\n",
    "            # Buy the Indian stock and sell the Forex pair\n",
    "            trades.append({'Type': 'Buy', 'Stock': indian_stock, 'Forex': forex_pair, 'Date': forex_data.index[i]})\n",
    "        elif signals[i] == -1:\n",
    "            # Sell the Indian stock and buy the Forex pair\n",
    "            trades.append({'Type': 'Sell', 'Stock': indian_stock, 'Forex': forex_pair, 'Date': forex_data.index[i]})\n",
    "    return trades\n",
    "\n",
    "# Execute trades\n",
    "trades = execute_trades(signals, forex_data, indian_data)\n",
    "\n",
    "# Print the trades\n",
    "print(trades)"
   ]
  },
  {
   "cell_type": "code",
   "execution_count": 7,
   "id": "64519920",
   "metadata": {},
   "outputs": [],
   "source": [
    "df = pd.DataFrame(trades)"
   ]
  },
  {
   "cell_type": "code",
   "execution_count": 8,
   "id": "ccf28bf1",
   "metadata": {},
   "outputs": [
    {
     "data": {
      "text/html": [
       "<div>\n",
       "<style scoped>\n",
       "    .dataframe tbody tr th:only-of-type {\n",
       "        vertical-align: middle;\n",
       "    }\n",
       "\n",
       "    .dataframe tbody tr th {\n",
       "        vertical-align: top;\n",
       "    }\n",
       "\n",
       "    .dataframe thead th {\n",
       "        text-align: right;\n",
       "    }\n",
       "</style>\n",
       "<table border=\"1\" class=\"dataframe\">\n",
       "  <thead>\n",
       "    <tr style=\"text-align: right;\">\n",
       "      <th></th>\n",
       "      <th>Type</th>\n",
       "      <th>Stock</th>\n",
       "      <th>Forex</th>\n",
       "      <th>Date</th>\n",
       "    </tr>\n",
       "  </thead>\n",
       "  <tbody>\n",
       "    <tr>\n",
       "      <th>0</th>\n",
       "      <td>Buy</td>\n",
       "      <td>TATAMOTORS.NS</td>\n",
       "      <td>EURUSD=X</td>\n",
       "      <td>2024-02-05</td>\n",
       "    </tr>\n",
       "    <tr>\n",
       "      <th>1</th>\n",
       "      <td>Sell</td>\n",
       "      <td>TATAMOTORS.NS</td>\n",
       "      <td>EURUSD=X</td>\n",
       "      <td>2024-03-13</td>\n",
       "    </tr>\n",
       "    <tr>\n",
       "      <th>2</th>\n",
       "      <td>Sell</td>\n",
       "      <td>TATAMOTORS.NS</td>\n",
       "      <td>EURUSD=X</td>\n",
       "      <td>2024-05-13</td>\n",
       "    </tr>\n",
       "    <tr>\n",
       "      <th>3</th>\n",
       "      <td>Sell</td>\n",
       "      <td>TATAMOTORS.NS</td>\n",
       "      <td>EURUSD=X</td>\n",
       "      <td>2024-06-04</td>\n",
       "    </tr>\n",
       "  </tbody>\n",
       "</table>\n",
       "</div>"
      ],
      "text/plain": [
       "   Type          Stock     Forex       Date\n",
       "0   Buy  TATAMOTORS.NS  EURUSD=X 2024-02-05\n",
       "1  Sell  TATAMOTORS.NS  EURUSD=X 2024-03-13\n",
       "2  Sell  TATAMOTORS.NS  EURUSD=X 2024-05-13\n",
       "3  Sell  TATAMOTORS.NS  EURUSD=X 2024-06-04"
      ]
     },
     "execution_count": 8,
     "metadata": {},
     "output_type": "execute_result"
    }
   ],
   "source": [
    "df"
   ]
  },
  {
   "cell_type": "code",
   "execution_count": 28,
   "id": "c4be2b64",
   "metadata": {},
   "outputs": [
    {
     "name": "stderr",
     "output_type": "stream",
     "text": [
      "[*********************100%%**********************]  1 of 1 completed\n",
      "[*********************100%%**********************]  1 of 1 completed\n"
     ]
    },
    {
     "ename": "IndexError",
     "evalue": "single positional indexer is out-of-bounds",
     "output_type": "error",
     "traceback": [
      "\u001b[0;31m---------------------------------------------------------------------------\u001b[0m",
      "\u001b[0;31mIndexError\u001b[0m                                Traceback (most recent call last)",
      "Cell \u001b[0;32mIn[28], line 38\u001b[0m\n\u001b[1;32m     36\u001b[0m trades \u001b[38;5;241m=\u001b[39m []\n\u001b[1;32m     37\u001b[0m \u001b[38;5;28;01mfor\u001b[39;00m i \u001b[38;5;129;01min\u001b[39;00m \u001b[38;5;28mrange\u001b[39m(\u001b[38;5;28mlen\u001b[39m(spread)):\n\u001b[0;32m---> 38\u001b[0m     trade \u001b[38;5;241m=\u001b[39m trading_strategy(spread\u001b[38;5;241m.\u001b[39miloc[i], forex_ma_short\u001b[38;5;241m.\u001b[39miloc[i], forex_ma_long\u001b[38;5;241m.\u001b[39miloc[i], indian_ma_short\u001b[38;5;241m.\u001b[39miloc[i], indian_ma_long\u001b[38;5;241m.\u001b[39miloc[i])\n\u001b[1;32m     39\u001b[0m     trades\u001b[38;5;241m.\u001b[39mappend(trade)\n\u001b[1;32m     41\u001b[0m \u001b[38;5;28mprint\u001b[39m(trades)\n",
      "File \u001b[0;32m~/anaconda3/lib/python3.11/site-packages/pandas/core/indexing.py:1103\u001b[0m, in \u001b[0;36m_LocationIndexer.__getitem__\u001b[0;34m(self, key)\u001b[0m\n\u001b[1;32m   1100\u001b[0m axis \u001b[38;5;241m=\u001b[39m \u001b[38;5;28mself\u001b[39m\u001b[38;5;241m.\u001b[39maxis \u001b[38;5;129;01mor\u001b[39;00m \u001b[38;5;241m0\u001b[39m\n\u001b[1;32m   1102\u001b[0m maybe_callable \u001b[38;5;241m=\u001b[39m com\u001b[38;5;241m.\u001b[39mapply_if_callable(key, \u001b[38;5;28mself\u001b[39m\u001b[38;5;241m.\u001b[39mobj)\n\u001b[0;32m-> 1103\u001b[0m \u001b[38;5;28;01mreturn\u001b[39;00m \u001b[38;5;28mself\u001b[39m\u001b[38;5;241m.\u001b[39m_getitem_axis(maybe_callable, axis\u001b[38;5;241m=\u001b[39maxis)\n",
      "File \u001b[0;32m~/anaconda3/lib/python3.11/site-packages/pandas/core/indexing.py:1656\u001b[0m, in \u001b[0;36m_iLocIndexer._getitem_axis\u001b[0;34m(self, key, axis)\u001b[0m\n\u001b[1;32m   1653\u001b[0m     \u001b[38;5;28;01mraise\u001b[39;00m \u001b[38;5;167;01mTypeError\u001b[39;00m(\u001b[38;5;124m\"\u001b[39m\u001b[38;5;124mCannot index by location index with a non-integer key\u001b[39m\u001b[38;5;124m\"\u001b[39m)\n\u001b[1;32m   1655\u001b[0m \u001b[38;5;66;03m# validate the location\u001b[39;00m\n\u001b[0;32m-> 1656\u001b[0m \u001b[38;5;28mself\u001b[39m\u001b[38;5;241m.\u001b[39m_validate_integer(key, axis)\n\u001b[1;32m   1658\u001b[0m \u001b[38;5;28;01mreturn\u001b[39;00m \u001b[38;5;28mself\u001b[39m\u001b[38;5;241m.\u001b[39mobj\u001b[38;5;241m.\u001b[39m_ixs(key, axis\u001b[38;5;241m=\u001b[39maxis)\n",
      "File \u001b[0;32m~/anaconda3/lib/python3.11/site-packages/pandas/core/indexing.py:1589\u001b[0m, in \u001b[0;36m_iLocIndexer._validate_integer\u001b[0;34m(self, key, axis)\u001b[0m\n\u001b[1;32m   1587\u001b[0m len_axis \u001b[38;5;241m=\u001b[39m \u001b[38;5;28mlen\u001b[39m(\u001b[38;5;28mself\u001b[39m\u001b[38;5;241m.\u001b[39mobj\u001b[38;5;241m.\u001b[39m_get_axis(axis))\n\u001b[1;32m   1588\u001b[0m \u001b[38;5;28;01mif\u001b[39;00m key \u001b[38;5;241m>\u001b[39m\u001b[38;5;241m=\u001b[39m len_axis \u001b[38;5;129;01mor\u001b[39;00m key \u001b[38;5;241m<\u001b[39m \u001b[38;5;241m-\u001b[39mlen_axis:\n\u001b[0;32m-> 1589\u001b[0m     \u001b[38;5;28;01mraise\u001b[39;00m \u001b[38;5;167;01mIndexError\u001b[39;00m(\u001b[38;5;124m\"\u001b[39m\u001b[38;5;124msingle positional indexer is out-of-bounds\u001b[39m\u001b[38;5;124m\"\u001b[39m)\n",
      "\u001b[0;31mIndexError\u001b[0m: single positional indexer is out-of-bounds"
     ]
    }
   ],
   "source": [
    "import pandas as pd\n",
    "import yfinance as yf\n",
    "import numpy as np\n",
    "\n",
    "\n",
    "# Define the Forex and Indian market stocks\n",
    "forex_stock = 'EURUSD=X'  # Replace with your desired Forex stock\n",
    "indian_stock = ''  # Replace with your desired Indian market stock (e.g. NIFTY 50)\n",
    "\n",
    "# Download the historical data\n",
    "forex_data = yf.download(forex_stock, start='2020-01-01', end='2024-07-18')\n",
    "indian_data = yf.download(indian_stock, start='2020-01-01', end='2024-07-18')\n",
    "\n",
    "# Calculate the moving averages\n",
    "short_window = 20\n",
    "long_window = 50\n",
    "\n",
    "forex_ma_short = forex_data['Close'].rolling(window=short_window).mean()\n",
    "forex_ma_long = forex_data['Close'].rolling(window=long_window).mean()\n",
    "\n",
    "indian_ma_short = indian_data['Close'].rolling(window=short_window).mean()\n",
    "indian_ma_long = indian_data['Close'].rolling(window=long_window).mean()\n",
    "\n",
    "# Calculate the spread\n",
    "spread = np.log(indian_data['Close']) - np.log(forex_data['Close'])\n",
    "\n",
    "# Define the trading strategy\n",
    "def trading_strategy(spread, forex_ma_short, forex_ma_long, indian_ma_short, indian_ma_long):\n",
    "    if spread.iloc[-1] > 2 and forex_ma_short.iloc[-1] > forex_ma_long.iloc[-1] and indian_ma_short.iloc[-1] < indian_ma_long.iloc[-1]:\n",
    "        return 'Buy Indian stock, Sell Forex stock'\n",
    "    elif spread.iloc[-1] < -2 and forex_ma_short.iloc[-1] < forex_ma_long.iloc[-1] and indian_ma_short.iloc[-1] > indian_ma_long.iloc[-1]:\n",
    "        return 'Sell Indian stock, Buy Forex stock'\n",
    "    else:\n",
    "        return 'No trade'\n",
    "\n",
    "# Backtest the strategy\n",
    "trades = []\n",
    "for i in range(short_window, len(spread)):\n",
    "    trade = trading_strategy(spread.iloc[i-short_window:i], forex_ma_short.iloc[i-short_window:i], forex_ma_long.iloc[i-short_window:i], indian_ma_short.iloc[i-short_window:i], indian_ma_long.iloc[i-short_window:i])\n",
    "    trades.append(trade)\n",
    "\n",
    "print(trades)"
   ]
  },
  {
   "cell_type": "code",
   "execution_count": null,
   "id": "e09bc1c9",
   "metadata": {},
   "outputs": [],
   "source": [
    "hedgingcase = pd.DataFrame(hedged_trades)"
   ]
  },
  {
   "cell_type": "code",
   "execution_count": null,
   "id": "a99a5970",
   "metadata": {},
   "outputs": [],
   "source": [
    "hedgingcase"
   ]
  },
  {
   "cell_type": "code",
   "execution_count": null,
   "id": "54406471",
   "metadata": {},
   "outputs": [],
   "source": []
  }
 ],
 "metadata": {
  "kernelspec": {
   "display_name": "Python 3 (ipykernel)",
   "language": "python",
   "name": "python3"
  },
  "language_info": {
   "codemirror_mode": {
    "name": "ipython",
    "version": 3
   },
   "file_extension": ".py",
   "mimetype": "text/x-python",
   "name": "python",
   "nbconvert_exporter": "python",
   "pygments_lexer": "ipython3",
   "version": "3.11.5"
  }
 },
 "nbformat": 4,
 "nbformat_minor": 5
}
